{
 "cells": [
  {
   "cell_type": "code",
   "execution_count": 1,
   "metadata": {},
   "outputs": [],
   "source": [
    "import pandas as pd\n",
    "import numpy as np\n",
    "import tensorflow as tf\n",
    "from tensorflow.keras.preprocessing.text import Tokenizer\n",
    "from tensorflow.keras.preprocessing.sequence import pad_sequences\n",
    "from tensorflow.keras.models import Sequential\n",
    "from tensorflow.keras.layers import Embedding, LSTM, Dense, SpatialDropout1D\n",
    "from sklearn.model_selection import train_test_split\n",
    "from sklearn.metrics import classification_report, confusion_matrix\n",
    "import matplotlib.pyplot as plt\n",
    "import seaborn as sns\n",
    "from sklearn.utils import resample"
   ]
  },
  {
   "cell_type": "code",
   "execution_count": 2,
   "metadata": {},
   "outputs": [],
   "source": [
    "# Load dataset\n",
    "df = pd.read_csv('cnbc.csv')\n"
   ]
  },
  {
   "cell_type": "code",
   "execution_count": 3,
   "metadata": {},
   "outputs": [],
   "source": [
    "# Praproses teks\n",
    "max_features = 2000  # Jumlah kata yang akan di-tokenisasi\n",
    "max_len = 300  # Panjang maksimum dari setiap sequence\n",
    "\n",
    "tokenizer = Tokenizer(num_words=max_features, oov_token='<OOV>')\n",
    "tokenizer.fit_on_texts(df['Stem_article'])\n",
    "X = tokenizer.texts_to_sequences(df['Stem_article'])\n",
    "X = pad_sequences(X, maxlen=max_len)\n",
    "\n",
    "# Pastikan label biner\n",
    "y = df['polarity'].values"
   ]
  },
  {
   "cell_type": "code",
   "execution_count": 4,
   "metadata": {},
   "outputs": [],
   "source": [
    "# Menggabungkan X dan y untuk memudahkan undersampling\n",
    "data = pd.DataFrame(X)\n",
    "data['polarity'] = y\n",
    "\n",
    "# Pisahkan kelas mayoritas dan minoritas\n",
    "majority = data[data['polarity'] == 0]\n",
    "minority = data[data['polarity'] == 1]\n"
   ]
  },
  {
   "cell_type": "code",
   "execution_count": 5,
   "metadata": {},
   "outputs": [],
   "source": [
    "# Undersample kelas mayoritas\n",
    "majority_undersampled = resample(majority,\n",
    "                                 replace=False,  # Tidak mengganti sampel\n",
    "                                 n_samples=len(minority),  # Cocokkan jumlah dengan kelas minoritas\n",
    "                                 random_state=42)  # Untuk reproduktifitas\n",
    "\n",
    "# Gabungkan kembali kelas mayoritas yang undersampled dengan kelas minoritas\n",
    "undersampled_data = pd.concat([majority_undersampled, minority])\n",
    "\n",
    "# Pisahkan kembali X dan y\n",
    "X = undersampled_data.drop('polarity', axis=1).values\n",
    "y = undersampled_data['polarity'].values\n"
   ]
  },
  {
   "cell_type": "code",
   "execution_count": 6,
   "metadata": {},
   "outputs": [],
   "source": [
    "# Bagi data menjadi data latih dan data uji\n",
    "X_train, X_test, y_train, y_test = train_test_split(X, y, test_size=0.2, random_state=42)\n"
   ]
  },
  {
   "cell_type": "code",
   "execution_count": 7,
   "metadata": {},
   "outputs": [],
   "source": [
    "# Hyperparameter tuning\n",
    "def build_model(lstm_units, dropout_rate):\n",
    "    model = Sequential([\n",
    "        Embedding(input_dim=max_features, output_dim=128, input_length=max_len),\n",
    "        SpatialDropout1D(dropout_rate),\n",
    "        LSTM(lstm_units, dropout=dropout_rate, recurrent_dropout=0.2),\n",
    "        Dense(1, activation='sigmoid')\n",
    "    ])\n",
    "    model.compile(loss='binary_crossentropy', optimizer='adam', metrics=['accuracy'])\n",
    "    return model"
   ]
  },
  {
   "cell_type": "code",
   "execution_count": 8,
   "metadata": {},
   "outputs": [],
   "source": [
    "# Hyperparameter grid\n",
    "lstm_units_list = [50, 100, 150]\n",
    "dropout_rate_list = [0.2, 0.3, 0.4]\n",
    "batch_size_list = [32, 64]\n",
    "epochs = 10\n",
    "\n",
    "best_accuracy = 0\n",
    "best_params = None\n",
    "history_dict = {}"
   ]
  },
  {
   "cell_type": "code",
   "execution_count": 9,
   "metadata": {},
   "outputs": [
    {
     "name": "stdout",
     "output_type": "stream",
     "text": [
      "Training model with LSTM units: 50, Dropout rate: 0.2, Batch size: 32\n"
     ]
    },
    {
     "name": "stderr",
     "output_type": "stream",
     "text": [
      "c:\\Users\\Anjelita Malik\\AppData\\Local\\Programs\\Python\\Python311\\Lib\\site-packages\\keras\\src\\layers\\core\\embedding.py:90: UserWarning: Argument `input_length` is deprecated. Just remove it.\n",
      "  warnings.warn(\n"
     ]
    },
    {
     "name": "stdout",
     "output_type": "stream",
     "text": [
      "Epoch 1/10\n",
      "26/26 - 19s - 716ms/step - accuracy: 0.5302 - loss: 0.6905 - val_accuracy: 0.5862 - val_loss: 0.6842\n",
      "Epoch 2/10\n",
      "26/26 - 27s - 1s/step - accuracy: 0.7349 - loss: 0.6053 - val_accuracy: 0.6453 - val_loss: 0.7170\n",
      "Epoch 3/10\n",
      "26/26 - 18s - 699ms/step - accuracy: 0.7928 - loss: 0.4979 - val_accuracy: 0.6749 - val_loss: 0.6223\n",
      "Epoch 4/10\n",
      "26/26 - 13s - 519ms/step - accuracy: 0.8570 - loss: 0.3796 - val_accuracy: 0.6847 - val_loss: 0.6316\n",
      "Epoch 5/10\n",
      "26/26 - 11s - 406ms/step - accuracy: 0.8964 - loss: 0.2825 - val_accuracy: 0.6847 - val_loss: 0.6748\n",
      "Epoch 6/10\n",
      "26/26 - 5s - 199ms/step - accuracy: 0.9038 - loss: 0.2557 - val_accuracy: 0.6650 - val_loss: 0.7115\n",
      "Epoch 7/10\n",
      "26/26 - 5s - 195ms/step - accuracy: 0.9236 - loss: 0.2028 - val_accuracy: 0.6749 - val_loss: 0.7780\n",
      "Epoch 8/10\n",
      "26/26 - 5s - 196ms/step - accuracy: 0.9470 - loss: 0.1607 - val_accuracy: 0.6355 - val_loss: 0.8386\n",
      "Epoch 9/10\n",
      "26/26 - 13s - 519ms/step - accuracy: 0.9396 - loss: 0.1545 - val_accuracy: 0.6552 - val_loss: 0.9433\n",
      "Epoch 10/10\n",
      "26/26 - 7s - 256ms/step - accuracy: 0.9556 - loss: 0.1267 - val_accuracy: 0.6700 - val_loss: 0.8922\n",
      "Accuracy: 0.6699507236480713\n",
      "Training model with LSTM units: 50, Dropout rate: 0.2, Batch size: 64\n",
      "Epoch 1/10\n",
      "13/13 - 11s - 874ms/step - accuracy: 0.5573 - loss: 0.6913 - val_accuracy: 0.5813 - val_loss: 0.6882\n",
      "Epoch 2/10\n",
      "13/13 - 4s - 330ms/step - accuracy: 0.7201 - loss: 0.6688 - val_accuracy: 0.6108 - val_loss: 0.6673\n",
      "Epoch 3/10\n",
      "13/13 - 5s - 355ms/step - accuracy: 0.7534 - loss: 0.5747 - val_accuracy: 0.6798 - val_loss: 0.6102\n",
      "Epoch 4/10\n",
      "13/13 - 6s - 488ms/step - accuracy: 0.8249 - loss: 0.4361 - val_accuracy: 0.6650 - val_loss: 0.6321\n",
      "Epoch 5/10\n",
      "13/13 - 6s - 459ms/step - accuracy: 0.8767 - loss: 0.3574 - val_accuracy: 0.7143 - val_loss: 0.6426\n",
      "Epoch 6/10\n",
      "13/13 - 10s - 799ms/step - accuracy: 0.8964 - loss: 0.2941 - val_accuracy: 0.7044 - val_loss: 0.6508\n",
      "Epoch 7/10\n",
      "13/13 - 9s - 671ms/step - accuracy: 0.9088 - loss: 0.2648 - val_accuracy: 0.6995 - val_loss: 0.6979\n",
      "Epoch 8/10\n",
      "13/13 - 3s - 259ms/step - accuracy: 0.9236 - loss: 0.2213 - val_accuracy: 0.6650 - val_loss: 0.7229\n",
      "Epoch 9/10\n",
      "13/13 - 4s - 278ms/step - accuracy: 0.9309 - loss: 0.2248 - val_accuracy: 0.7044 - val_loss: 0.7693\n",
      "Epoch 10/10\n",
      "13/13 - 3s - 265ms/step - accuracy: 0.9396 - loss: 0.2022 - val_accuracy: 0.6404 - val_loss: 0.7494\n",
      "Accuracy: 0.6403940916061401\n",
      "Training model with LSTM units: 50, Dropout rate: 0.3, Batch size: 32\n",
      "Epoch 1/10\n",
      "26/26 - 10s - 388ms/step - accuracy: 0.5166 - loss: 0.6912 - val_accuracy: 0.5567 - val_loss: 0.6877\n",
      "Epoch 2/10\n",
      "26/26 - 4s - 171ms/step - accuracy: 0.7004 - loss: 0.6514 - val_accuracy: 0.6601 - val_loss: 0.6344\n",
      "Epoch 3/10\n",
      "26/26 - 4s - 167ms/step - accuracy: 0.7694 - loss: 0.5265 - val_accuracy: 0.6502 - val_loss: 0.6411\n",
      "Epoch 4/10\n",
      "26/26 - 4s - 160ms/step - accuracy: 0.8298 - loss: 0.4254 - val_accuracy: 0.6650 - val_loss: 0.7180\n",
      "Epoch 5/10\n",
      "26/26 - 4s - 160ms/step - accuracy: 0.8594 - loss: 0.3372 - val_accuracy: 0.6502 - val_loss: 0.7116\n",
      "Epoch 6/10\n",
      "26/26 - 5s - 182ms/step - accuracy: 0.8792 - loss: 0.3395 - val_accuracy: 0.6355 - val_loss: 0.7296\n",
      "Epoch 7/10\n",
      "26/26 - 5s - 194ms/step - accuracy: 0.9211 - loss: 0.2424 - val_accuracy: 0.6650 - val_loss: 0.7619\n",
      "Epoch 8/10\n",
      "26/26 - 4s - 163ms/step - accuracy: 0.9297 - loss: 0.2156 - val_accuracy: 0.6256 - val_loss: 0.8543\n",
      "Epoch 9/10\n",
      "26/26 - 4s - 165ms/step - accuracy: 0.9112 - loss: 0.2264 - val_accuracy: 0.6700 - val_loss: 0.9210\n",
      "Epoch 10/10\n",
      "26/26 - 4s - 155ms/step - accuracy: 0.9507 - loss: 0.1630 - val_accuracy: 0.6404 - val_loss: 0.8455\n",
      "Accuracy: 0.6403940916061401\n",
      "Training model with LSTM units: 50, Dropout rate: 0.3, Batch size: 64\n",
      "Epoch 1/10\n",
      "13/13 - 9s - 718ms/step - accuracy: 0.5314 - loss: 0.6915 - val_accuracy: 0.5271 - val_loss: 0.6906\n",
      "Epoch 2/10\n",
      "13/13 - 3s - 255ms/step - accuracy: 0.6893 - loss: 0.6737 - val_accuracy: 0.6108 - val_loss: 0.6711\n",
      "Epoch 3/10\n",
      "13/13 - 3s - 236ms/step - accuracy: 0.7608 - loss: 0.5852 - val_accuracy: 0.6502 - val_loss: 0.6280\n",
      "Epoch 4/10\n",
      "13/13 - 3s - 231ms/step - accuracy: 0.8064 - loss: 0.4911 - val_accuracy: 0.6601 - val_loss: 0.7375\n",
      "Epoch 5/10\n",
      "13/13 - 3s - 237ms/step - accuracy: 0.8422 - loss: 0.4161 - val_accuracy: 0.6700 - val_loss: 0.6254\n",
      "Epoch 6/10\n",
      "13/13 - 3s - 234ms/step - accuracy: 0.8668 - loss: 0.3886 - val_accuracy: 0.6502 - val_loss: 0.6420\n",
      "Epoch 7/10\n",
      "13/13 - 4s - 344ms/step - accuracy: 0.8890 - loss: 0.3279 - val_accuracy: 0.6749 - val_loss: 0.6662\n",
      "Epoch 8/10\n",
      "13/13 - 7s - 533ms/step - accuracy: 0.8878 - loss: 0.3028 - val_accuracy: 0.6946 - val_loss: 0.7203\n",
      "Epoch 9/10\n",
      "13/13 - 5s - 370ms/step - accuracy: 0.8915 - loss: 0.2752 - val_accuracy: 0.6897 - val_loss: 0.6794\n",
      "Epoch 10/10\n",
      "13/13 - 5s - 417ms/step - accuracy: 0.9162 - loss: 0.2466 - val_accuracy: 0.6798 - val_loss: 0.7167\n",
      "Accuracy: 0.6798029541969299\n",
      "Training model with LSTM units: 50, Dropout rate: 0.4, Batch size: 32\n",
      "Epoch 1/10\n",
      "26/26 - 14s - 550ms/step - accuracy: 0.4932 - loss: 0.6919 - val_accuracy: 0.6256 - val_loss: 0.6854\n",
      "Epoch 2/10\n",
      "26/26 - 11s - 429ms/step - accuracy: 0.6732 - loss: 0.6394 - val_accuracy: 0.5862 - val_loss: 0.7896\n",
      "Epoch 3/10\n",
      "26/26 - 16s - 623ms/step - accuracy: 0.6979 - loss: 0.6251 - val_accuracy: 0.6404 - val_loss: 0.6440\n",
      "Epoch 4/10\n",
      "26/26 - 4s - 167ms/step - accuracy: 0.8200 - loss: 0.5103 - val_accuracy: 0.6749 - val_loss: 0.6211\n",
      "Epoch 5/10\n",
      "26/26 - 6s - 240ms/step - accuracy: 0.8397 - loss: 0.3974 - val_accuracy: 0.6108 - val_loss: 0.6814\n",
      "Epoch 6/10\n",
      "26/26 - 9s - 355ms/step - accuracy: 0.8533 - loss: 0.3772 - val_accuracy: 0.6650 - val_loss: 0.6795\n",
      "Epoch 7/10\n",
      "26/26 - 8s - 302ms/step - accuracy: 0.8829 - loss: 0.3056 - val_accuracy: 0.6897 - val_loss: 0.7054\n",
      "Epoch 8/10\n",
      "26/26 - 8s - 315ms/step - accuracy: 0.9001 - loss: 0.2708 - val_accuracy: 0.6453 - val_loss: 0.6939\n",
      "Epoch 9/10\n",
      "26/26 - 5s - 184ms/step - accuracy: 0.9162 - loss: 0.2431 - val_accuracy: 0.6650 - val_loss: 0.7494\n",
      "Epoch 10/10\n",
      "26/26 - 6s - 223ms/step - accuracy: 0.9248 - loss: 0.2169 - val_accuracy: 0.6700 - val_loss: 0.7980\n",
      "Accuracy: 0.6699507236480713\n",
      "Training model with LSTM units: 50, Dropout rate: 0.4, Batch size: 64\n",
      "Epoch 1/10\n",
      "13/13 - 10s - 805ms/step - accuracy: 0.5290 - loss: 0.6910 - val_accuracy: 0.5665 - val_loss: 0.6897\n",
      "Epoch 2/10\n",
      "13/13 - 5s - 380ms/step - accuracy: 0.6954 - loss: 0.6766 - val_accuracy: 0.5911 - val_loss: 0.6798\n",
      "Epoch 3/10\n",
      "13/13 - 4s - 324ms/step - accuracy: 0.7633 - loss: 0.6098 - val_accuracy: 0.6404 - val_loss: 0.6475\n",
      "Epoch 4/10\n",
      "13/13 - 5s - 404ms/step - accuracy: 0.7731 - loss: 0.5235 - val_accuracy: 0.6897 - val_loss: 0.6221\n",
      "Epoch 5/10\n",
      "13/13 - 4s - 333ms/step - accuracy: 0.8126 - loss: 0.4543 - val_accuracy: 0.6700 - val_loss: 0.6451\n",
      "Epoch 6/10\n",
      "13/13 - 4s - 280ms/step - accuracy: 0.8483 - loss: 0.3973 - val_accuracy: 0.6453 - val_loss: 0.6710\n",
      "Epoch 7/10\n",
      "13/13 - 3s - 260ms/step - accuracy: 0.8705 - loss: 0.3442 - val_accuracy: 0.6502 - val_loss: 0.6794\n",
      "Epoch 8/10\n",
      "13/13 - 11s - 843ms/step - accuracy: 0.8940 - loss: 0.3135 - val_accuracy: 0.6453 - val_loss: 0.7062\n",
      "Epoch 9/10\n",
      "13/13 - 5s - 378ms/step - accuracy: 0.9051 - loss: 0.2643 - val_accuracy: 0.6700 - val_loss: 0.7629\n",
      "Epoch 10/10\n",
      "13/13 - 4s - 334ms/step - accuracy: 0.9063 - loss: 0.2374 - val_accuracy: 0.6552 - val_loss: 0.7546\n",
      "Accuracy: 0.6551724076271057\n",
      "Training model with LSTM units: 100, Dropout rate: 0.2, Batch size: 32\n",
      "Epoch 1/10\n",
      "26/26 - 22s - 857ms/step - accuracy: 0.5524 - loss: 0.6876 - val_accuracy: 0.5961 - val_loss: 0.6657\n",
      "Epoch 2/10\n",
      "26/26 - 21s - 802ms/step - accuracy: 0.7275 - loss: 0.5844 - val_accuracy: 0.6010 - val_loss: 0.6632\n",
      "Epoch 3/10\n",
      "26/26 - 19s - 712ms/step - accuracy: 0.7596 - loss: 0.5050 - val_accuracy: 0.6650 - val_loss: 0.9246\n",
      "Epoch 4/10\n",
      "26/26 - 13s - 483ms/step - accuracy: 0.8693 - loss: 0.3659 - val_accuracy: 0.6601 - val_loss: 0.7371\n",
      "Epoch 5/10\n",
      "26/26 - 7s - 276ms/step - accuracy: 0.8816 - loss: 0.2936 - val_accuracy: 0.6256 - val_loss: 0.7592\n",
      "Epoch 6/10\n",
      "26/26 - 7s - 270ms/step - accuracy: 0.9051 - loss: 0.2386 - val_accuracy: 0.6108 - val_loss: 0.8172\n",
      "Epoch 7/10\n",
      "26/26 - 9s - 360ms/step - accuracy: 0.9396 - loss: 0.1732 - val_accuracy: 0.6059 - val_loss: 0.8360\n",
      "Epoch 8/10\n",
      "26/26 - 16s - 597ms/step - accuracy: 0.9420 - loss: 0.1534 - val_accuracy: 0.6453 - val_loss: 0.9837\n",
      "Epoch 9/10\n",
      "26/26 - 15s - 570ms/step - accuracy: 0.9457 - loss: 0.1521 - val_accuracy: 0.6404 - val_loss: 1.0555\n",
      "Epoch 10/10\n",
      "26/26 - 16s - 616ms/step - accuracy: 0.9568 - loss: 0.1325 - val_accuracy: 0.6749 - val_loss: 1.1360\n",
      "Accuracy: 0.674876868724823\n",
      "Training model with LSTM units: 100, Dropout rate: 0.2, Batch size: 64\n",
      "Epoch 1/10\n",
      "13/13 - 25s - 2s/step - accuracy: 0.5561 - loss: 0.6893 - val_accuracy: 0.5862 - val_loss: 0.6846\n",
      "Epoch 2/10\n",
      "13/13 - 11s - 860ms/step - accuracy: 0.6917 - loss: 0.6258 - val_accuracy: 0.6355 - val_loss: 0.6431\n",
      "Epoch 3/10\n",
      "13/13 - 23s - 2s/step - accuracy: 0.8089 - loss: 0.4978 - val_accuracy: 0.6847 - val_loss: 0.6240\n",
      "Epoch 4/10\n",
      "13/13 - 22s - 2s/step - accuracy: 0.8545 - loss: 0.3648 - val_accuracy: 0.6897 - val_loss: 0.6815\n",
      "Epoch 5/10\n",
      "13/13 - 13s - 1s/step - accuracy: 0.8927 - loss: 0.2951 - val_accuracy: 0.6158 - val_loss: 0.6771\n",
      "Epoch 6/10\n",
      "13/13 - 16s - 1s/step - accuracy: 0.8964 - loss: 0.2823 - val_accuracy: 0.6946 - val_loss: 0.7357\n",
      "Epoch 7/10\n",
      "13/13 - 14s - 1s/step - accuracy: 0.9211 - loss: 0.2167 - val_accuracy: 0.6207 - val_loss: 0.7249\n",
      "Epoch 8/10\n",
      "13/13 - 12s - 946ms/step - accuracy: 0.9334 - loss: 0.1965 - val_accuracy: 0.7241 - val_loss: 0.8406\n",
      "Epoch 9/10\n",
      "13/13 - 11s - 855ms/step - accuracy: 0.9420 - loss: 0.1788 - val_accuracy: 0.6847 - val_loss: 0.8214\n",
      "Epoch 10/10\n",
      "13/13 - 9s - 721ms/step - accuracy: 0.9519 - loss: 0.1634 - val_accuracy: 0.6995 - val_loss: 0.8716\n",
      "Accuracy: 0.6995074152946472\n",
      "Training model with LSTM units: 100, Dropout rate: 0.3, Batch size: 32\n",
      "Epoch 1/10\n",
      "26/26 - 12s - 472ms/step - accuracy: 0.5623 - loss: 0.6897 - val_accuracy: 0.6010 - val_loss: 0.6807\n",
      "Epoch 2/10\n",
      "26/26 - 7s - 259ms/step - accuracy: 0.7139 - loss: 0.6128 - val_accuracy: 0.6108 - val_loss: 0.6493\n",
      "Epoch 3/10\n",
      "26/26 - 17s - 661ms/step - accuracy: 0.8298 - loss: 0.4518 - val_accuracy: 0.6552 - val_loss: 0.6784\n",
      "Epoch 4/10\n",
      "26/26 - 19s - 747ms/step - accuracy: 0.8570 - loss: 0.3546 - val_accuracy: 0.6700 - val_loss: 0.6937\n",
      "Epoch 5/10\n",
      "26/26 - 18s - 699ms/step - accuracy: 0.8952 - loss: 0.2807 - val_accuracy: 0.6355 - val_loss: 0.7770\n",
      "Epoch 6/10\n",
      "26/26 - 8s - 325ms/step - accuracy: 0.9100 - loss: 0.2421 - val_accuracy: 0.6453 - val_loss: 0.8096\n",
      "Epoch 7/10\n",
      "26/26 - 11s - 434ms/step - accuracy: 0.9051 - loss: 0.2609 - val_accuracy: 0.5862 - val_loss: 0.8009\n",
      "Epoch 8/10\n",
      "26/26 - 10s - 369ms/step - accuracy: 0.9149 - loss: 0.2449 - val_accuracy: 0.6995 - val_loss: 0.8801\n",
      "Epoch 9/10\n",
      "26/26 - 12s - 446ms/step - accuracy: 0.9371 - loss: 0.1835 - val_accuracy: 0.6355 - val_loss: 0.8676\n",
      "Epoch 10/10\n",
      "26/26 - 12s - 445ms/step - accuracy: 0.9309 - loss: 0.2060 - val_accuracy: 0.6158 - val_loss: 0.8788\n",
      "Accuracy: 0.6157635450363159\n",
      "Training model with LSTM units: 100, Dropout rate: 0.3, Batch size: 64\n",
      "Epoch 1/10\n",
      "13/13 - 22s - 2s/step - accuracy: 0.5179 - loss: 0.6929 - val_accuracy: 0.5616 - val_loss: 0.6900\n",
      "Epoch 2/10\n",
      "13/13 - 9s - 705ms/step - accuracy: 0.6831 - loss: 0.6607 - val_accuracy: 0.6158 - val_loss: 0.6654\n",
      "Epoch 3/10\n",
      "13/13 - 9s - 695ms/step - accuracy: 0.7682 - loss: 0.5701 - val_accuracy: 0.6847 - val_loss: 0.6477\n",
      "Epoch 4/10\n",
      "13/13 - 9s - 674ms/step - accuracy: 0.8175 - loss: 0.4684 - val_accuracy: 0.6355 - val_loss: 0.6267\n",
      "Epoch 5/10\n",
      "13/13 - 13s - 1s/step - accuracy: 0.8594 - loss: 0.3831 - val_accuracy: 0.6700 - val_loss: 0.6579\n",
      "Epoch 6/10\n",
      "13/13 - 20s - 2s/step - accuracy: 0.8878 - loss: 0.3181 - val_accuracy: 0.6552 - val_loss: 0.6741\n",
      "Epoch 7/10\n",
      "13/13 - 10s - 808ms/step - accuracy: 0.8940 - loss: 0.2599 - val_accuracy: 0.6847 - val_loss: 0.7576\n",
      "Epoch 8/10\n",
      "13/13 - 22s - 2s/step - accuracy: 0.9260 - loss: 0.2274 - val_accuracy: 0.6552 - val_loss: 0.7583\n",
      "Epoch 9/10\n",
      "13/13 - 11s - 865ms/step - accuracy: 0.9297 - loss: 0.1970 - val_accuracy: 0.7143 - val_loss: 0.7863\n",
      "Epoch 10/10\n",
      "13/13 - 18s - 1s/step - accuracy: 0.9100 - loss: 0.1998 - val_accuracy: 0.6305 - val_loss: 0.7969\n",
      "Accuracy: 0.6305418610572815\n",
      "Training model with LSTM units: 100, Dropout rate: 0.4, Batch size: 32\n",
      "Epoch 1/10\n",
      "26/26 - 19s - 743ms/step - accuracy: 0.5512 - loss: 0.6915 - val_accuracy: 0.5764 - val_loss: 0.6883\n",
      "Epoch 2/10\n",
      "26/26 - 18s - 695ms/step - accuracy: 0.6942 - loss: 0.6438 - val_accuracy: 0.6108 - val_loss: 0.6622\n",
      "Epoch 3/10\n",
      "26/26 - 11s - 404ms/step - accuracy: 0.7337 - loss: 0.5633 - val_accuracy: 0.6059 - val_loss: 0.6535\n",
      "Epoch 4/10\n",
      "26/26 - 20s - 770ms/step - accuracy: 0.8027 - loss: 0.4831 - val_accuracy: 0.6355 - val_loss: 0.6610\n",
      "Epoch 5/10\n",
      "26/26 - 9s - 333ms/step - accuracy: 0.8619 - loss: 0.3586 - val_accuracy: 0.6601 - val_loss: 0.7457\n",
      "Epoch 6/10\n",
      "26/26 - 9s - 351ms/step - accuracy: 0.8779 - loss: 0.3277 - val_accuracy: 0.6650 - val_loss: 0.7171\n",
      "Epoch 7/10\n",
      "26/26 - 10s - 384ms/step - accuracy: 0.9051 - loss: 0.2512 - val_accuracy: 0.5911 - val_loss: 0.7897\n",
      "Epoch 8/10\n",
      "26/26 - 9s - 329ms/step - accuracy: 0.9026 - loss: 0.2303 - val_accuracy: 0.6059 - val_loss: 0.8433\n",
      "Epoch 9/10\n",
      "26/26 - 10s - 376ms/step - accuracy: 0.9346 - loss: 0.1907 - val_accuracy: 0.6256 - val_loss: 0.8987\n",
      "Epoch 10/10\n",
      "26/26 - 10s - 395ms/step - accuracy: 0.9445 - loss: 0.1660 - val_accuracy: 0.6404 - val_loss: 0.9434\n",
      "Accuracy: 0.6403940916061401\n",
      "Training model with LSTM units: 100, Dropout rate: 0.4, Batch size: 64\n",
      "Epoch 1/10\n",
      "13/13 - 15s - 1s/step - accuracy: 0.5166 - loss: 0.6928 - val_accuracy: 0.5320 - val_loss: 0.6922\n",
      "Epoch 2/10\n",
      "13/13 - 12s - 922ms/step - accuracy: 0.6338 - loss: 0.6807 - val_accuracy: 0.5911 - val_loss: 0.6796\n",
      "Epoch 3/10\n",
      "13/13 - 21s - 2s/step - accuracy: 0.6930 - loss: 0.6396 - val_accuracy: 0.6108 - val_loss: 0.6600\n",
      "Epoch 4/10\n",
      "13/13 - 16s - 1s/step - accuracy: 0.7719 - loss: 0.5401 - val_accuracy: 0.6059 - val_loss: 0.6455\n",
      "Epoch 5/10\n",
      "13/13 - 28s - 2s/step - accuracy: 0.8212 - loss: 0.4371 - val_accuracy: 0.6305 - val_loss: 0.6924\n",
      "Epoch 6/10\n",
      "13/13 - 35s - 3s/step - accuracy: 0.8557 - loss: 0.3755 - val_accuracy: 0.6355 - val_loss: 0.7351\n",
      "Epoch 7/10\n",
      "13/13 - 17s - 1s/step - accuracy: 0.8779 - loss: 0.3188 - val_accuracy: 0.6502 - val_loss: 0.8348\n",
      "Epoch 8/10\n",
      "13/13 - 19s - 1s/step - accuracy: 0.8927 - loss: 0.2876 - val_accuracy: 0.6355 - val_loss: 0.7515\n",
      "Epoch 9/10\n",
      "13/13 - 14s - 1s/step - accuracy: 0.9137 - loss: 0.2411 - val_accuracy: 0.6601 - val_loss: 0.8437\n",
      "Epoch 10/10\n",
      "13/13 - 12s - 938ms/step - accuracy: 0.9149 - loss: 0.2305 - val_accuracy: 0.6502 - val_loss: 0.8513\n",
      "Accuracy: 0.6502463221549988\n",
      "Training model with LSTM units: 150, Dropout rate: 0.2, Batch size: 32\n",
      "Epoch 1/10\n",
      "26/26 - 48s - 2s/step - accuracy: 0.5302 - loss: 0.6899 - val_accuracy: 0.5862 - val_loss: 0.6809\n",
      "Epoch 2/10\n",
      "26/26 - 43s - 2s/step - accuracy: 0.6782 - loss: 0.6246 - val_accuracy: 0.5961 - val_loss: 0.6544\n",
      "Epoch 3/10\n",
      "26/26 - 15s - 567ms/step - accuracy: 0.8422 - loss: 0.4494 - val_accuracy: 0.5911 - val_loss: 0.6897\n",
      "Epoch 4/10\n",
      "26/26 - 17s - 666ms/step - accuracy: 0.8570 - loss: 0.3417 - val_accuracy: 0.5961 - val_loss: 0.7900\n",
      "Epoch 5/10\n",
      "26/26 - 28s - 1s/step - accuracy: 0.9100 - loss: 0.2475 - val_accuracy: 0.6207 - val_loss: 0.8442\n",
      "Epoch 6/10\n",
      "26/26 - 39s - 2s/step - accuracy: 0.9248 - loss: 0.1963 - val_accuracy: 0.6158 - val_loss: 0.8915\n",
      "Epoch 7/10\n",
      "26/26 - 26s - 1s/step - accuracy: 0.9273 - loss: 0.1914 - val_accuracy: 0.5961 - val_loss: 0.9296\n",
      "Epoch 8/10\n",
      "26/26 - 59s - 2s/step - accuracy: 0.9519 - loss: 0.1323 - val_accuracy: 0.6305 - val_loss: 1.0145\n",
      "Epoch 9/10\n",
      "26/26 - 70s - 3s/step - accuracy: 0.9630 - loss: 0.1013 - val_accuracy: 0.6207 - val_loss: 1.1252\n",
      "Epoch 10/10\n",
      "26/26 - 55s - 2s/step - accuracy: 0.9778 - loss: 0.0846 - val_accuracy: 0.6305 - val_loss: 1.1095\n",
      "Accuracy: 0.6305418610572815\n",
      "Training model with LSTM units: 150, Dropout rate: 0.2, Batch size: 64\n",
      "Epoch 1/10\n",
      "13/13 - 58s - 4s/step - accuracy: 0.4969 - loss: 0.6930 - val_accuracy: 0.5419 - val_loss: 0.6895\n",
      "Epoch 2/10\n",
      "13/13 - 14s - 1s/step - accuracy: 0.6695 - loss: 0.6621 - val_accuracy: 0.5813 - val_loss: 0.6691\n",
      "Epoch 3/10\n",
      "13/13 - 34s - 3s/step - accuracy: 0.7485 - loss: 0.5700 - val_accuracy: 0.6404 - val_loss: 0.6558\n",
      "Epoch 4/10\n",
      "13/13 - 33s - 3s/step - accuracy: 0.8002 - loss: 0.4717 - val_accuracy: 0.6798 - val_loss: 0.6393\n",
      "Epoch 5/10\n",
      "13/13 - 33s - 3s/step - accuracy: 0.8681 - loss: 0.4161 - val_accuracy: 0.6158 - val_loss: 0.6732\n",
      "Epoch 6/10\n",
      "13/13 - 28s - 2s/step - accuracy: 0.9038 - loss: 0.2905 - val_accuracy: 0.6798 - val_loss: 0.7360\n",
      "Epoch 7/10\n",
      "13/13 - 25s - 2s/step - accuracy: 0.9014 - loss: 0.2425 - val_accuracy: 0.6502 - val_loss: 0.9648\n",
      "Epoch 8/10\n",
      "13/13 - 21s - 2s/step - accuracy: 0.9199 - loss: 0.2092 - val_accuracy: 0.6404 - val_loss: 0.8418\n",
      "Epoch 9/10\n",
      "13/13 - 21s - 2s/step - accuracy: 0.9408 - loss: 0.1654 - val_accuracy: 0.6502 - val_loss: 0.8783\n",
      "Epoch 10/10\n",
      "13/13 - 17s - 1s/step - accuracy: 0.9507 - loss: 0.1372 - val_accuracy: 0.6700 - val_loss: 1.0802\n",
      "Accuracy: 0.6699507236480713\n",
      "Training model with LSTM units: 150, Dropout rate: 0.3, Batch size: 32\n",
      "Epoch 1/10\n",
      "26/26 - 34s - 1s/step - accuracy: 0.5438 - loss: 0.6899 - val_accuracy: 0.5714 - val_loss: 0.6802\n",
      "Epoch 2/10\n",
      "26/26 - 11s - 411ms/step - accuracy: 0.6905 - loss: 0.6150 - val_accuracy: 0.5961 - val_loss: 0.6472\n",
      "Epoch 3/10\n",
      "26/26 - 12s - 450ms/step - accuracy: 0.8200 - loss: 0.4574 - val_accuracy: 0.6305 - val_loss: 0.6952\n",
      "Epoch 4/10\n",
      "26/26 - 16s - 624ms/step - accuracy: 0.8483 - loss: 0.3860 - val_accuracy: 0.6601 - val_loss: 0.6516\n",
      "Epoch 5/10\n",
      "26/26 - 17s - 662ms/step - accuracy: 0.8841 - loss: 0.3104 - val_accuracy: 0.6601 - val_loss: 0.6945\n",
      "Epoch 6/10\n",
      "26/26 - 13s - 505ms/step - accuracy: 0.8977 - loss: 0.2703 - val_accuracy: 0.6256 - val_loss: 0.7391\n",
      "Epoch 7/10\n",
      "26/26 - 18s - 695ms/step - accuracy: 0.8903 - loss: 0.3173 - val_accuracy: 0.6010 - val_loss: 0.7851\n",
      "Epoch 8/10\n",
      "26/26 - 26s - 993ms/step - accuracy: 0.8841 - loss: 0.2966 - val_accuracy: 0.6995 - val_loss: 0.7673\n",
      "Epoch 9/10\n",
      "26/26 - 21s - 806ms/step - accuracy: 0.9371 - loss: 0.1780 - val_accuracy: 0.6798 - val_loss: 0.9166\n",
      "Epoch 10/10\n",
      "26/26 - 30s - 1s/step - accuracy: 0.9408 - loss: 0.1568 - val_accuracy: 0.6897 - val_loss: 0.8732\n",
      "Accuracy: 0.6896551847457886\n",
      "Training model with LSTM units: 150, Dropout rate: 0.3, Batch size: 64\n",
      "Epoch 1/10\n",
      "13/13 - 29s - 2s/step - accuracy: 0.4932 - loss: 0.6945 - val_accuracy: 0.4877 - val_loss: 0.6919\n",
      "Epoch 2/10\n",
      "13/13 - 9s - 697ms/step - accuracy: 0.6338 - loss: 0.6826 - val_accuracy: 0.6453 - val_loss: 0.6627\n",
      "Epoch 3/10\n",
      "13/13 - 10s - 750ms/step - accuracy: 0.7115 - loss: 0.6282 - val_accuracy: 0.6207 - val_loss: 0.6623\n",
      "Epoch 4/10\n",
      "13/13 - 10s - 777ms/step - accuracy: 0.7694 - loss: 0.5251 - val_accuracy: 0.6700 - val_loss: 0.6433\n",
      "Epoch 5/10\n",
      "13/13 - 16s - 1s/step - accuracy: 0.8311 - loss: 0.4094 - val_accuracy: 0.6453 - val_loss: 0.6545\n",
      "Epoch 6/10\n",
      "13/13 - 19s - 1s/step - accuracy: 0.8804 - loss: 0.3320 - val_accuracy: 0.6305 - val_loss: 0.7342\n",
      "Epoch 7/10\n",
      "13/13 - 15s - 1s/step - accuracy: 0.9075 - loss: 0.2458 - val_accuracy: 0.6749 - val_loss: 0.7796\n",
      "Epoch 8/10\n",
      "13/13 - 12s - 921ms/step - accuracy: 0.9223 - loss: 0.2013 - val_accuracy: 0.6502 - val_loss: 0.8038\n",
      "Epoch 9/10\n",
      "13/13 - 13s - 1s/step - accuracy: 0.9507 - loss: 0.1511 - val_accuracy: 0.6700 - val_loss: 1.0034\n",
      "Epoch 10/10\n",
      "13/13 - 18s - 1s/step - accuracy: 0.9531 - loss: 0.1335 - val_accuracy: 0.6502 - val_loss: 0.9917\n",
      "Accuracy: 0.6502463221549988\n",
      "Training model with LSTM units: 150, Dropout rate: 0.4, Batch size: 32\n",
      "Epoch 1/10\n",
      "26/26 - 27s - 1s/step - accuracy: 0.5191 - loss: 0.6914 - val_accuracy: 0.5468 - val_loss: 0.6857\n",
      "Epoch 2/10\n",
      "26/26 - 9s - 349ms/step - accuracy: 0.6794 - loss: 0.6631 - val_accuracy: 0.6010 - val_loss: 0.6696\n",
      "Epoch 3/10\n",
      "26/26 - 10s - 372ms/step - accuracy: 0.7361 - loss: 0.5702 - val_accuracy: 0.6404 - val_loss: 0.6530\n",
      "Epoch 4/10\n",
      "26/26 - 10s - 375ms/step - accuracy: 0.8200 - loss: 0.4400 - val_accuracy: 0.6552 - val_loss: 0.8308\n",
      "Epoch 5/10\n",
      "26/26 - 13s - 515ms/step - accuracy: 0.8434 - loss: 0.3930 - val_accuracy: 0.6355 - val_loss: 0.7598\n",
      "Epoch 6/10\n",
      "26/26 - 42s - 2s/step - accuracy: 0.8681 - loss: 0.3169 - val_accuracy: 0.6256 - val_loss: 0.7645\n",
      "Epoch 7/10\n",
      "26/26 - 28s - 1s/step - accuracy: 0.9075 - loss: 0.2504 - val_accuracy: 0.6355 - val_loss: 0.8792\n",
      "Epoch 8/10\n",
      "26/26 - 19s - 734ms/step - accuracy: 0.9211 - loss: 0.2032 - val_accuracy: 0.6059 - val_loss: 0.8625\n",
      "Epoch 9/10\n",
      "26/26 - 14s - 548ms/step - accuracy: 0.9470 - loss: 0.1693 - val_accuracy: 0.6404 - val_loss: 1.0274\n",
      "Epoch 10/10\n",
      "26/26 - 26s - 988ms/step - accuracy: 0.9494 - loss: 0.1440 - val_accuracy: 0.6305 - val_loss: 1.0297\n",
      "Accuracy: 0.6305418610572815\n",
      "Training model with LSTM units: 150, Dropout rate: 0.4, Batch size: 64\n",
      "Epoch 1/10\n",
      "13/13 - 22s - 2s/step - accuracy: 0.4797 - loss: 0.6931 - val_accuracy: 0.5665 - val_loss: 0.6886\n",
      "Epoch 2/10\n",
      "13/13 - 20s - 2s/step - accuracy: 0.6757 - loss: 0.6754 - val_accuracy: 0.6010 - val_loss: 0.6689\n",
      "Epoch 3/10\n",
      "13/13 - 24s - 2s/step - accuracy: 0.6523 - loss: 0.6397 - val_accuracy: 0.5764 - val_loss: 0.6761\n",
      "Epoch 4/10\n",
      "13/13 - 18s - 1s/step - accuracy: 0.7016 - loss: 0.6092 - val_accuracy: 0.6010 - val_loss: 0.6575\n",
      "Epoch 5/10\n",
      "13/13 - 15s - 1s/step - accuracy: 0.7805 - loss: 0.5174 - val_accuracy: 0.6552 - val_loss: 0.6537\n",
      "Epoch 6/10\n",
      "13/13 - 17s - 1s/step - accuracy: 0.8409 - loss: 0.4013 - val_accuracy: 0.6798 - val_loss: 0.7089\n",
      "Epoch 7/10\n",
      "13/13 - 11s - 817ms/step - accuracy: 0.8792 - loss: 0.3202 - val_accuracy: 0.6305 - val_loss: 0.8806\n",
      "Epoch 8/10\n",
      "13/13 - 10s - 791ms/step - accuracy: 0.8792 - loss: 0.3004 - val_accuracy: 0.6108 - val_loss: 0.7889\n",
      "Epoch 9/10\n",
      "13/13 - 10s - 801ms/step - accuracy: 0.9112 - loss: 0.2473 - val_accuracy: 0.6108 - val_loss: 0.7564\n",
      "Epoch 10/10\n",
      "13/13 - 21s - 2s/step - accuracy: 0.9149 - loss: 0.2123 - val_accuracy: 0.6256 - val_loss: 0.8489\n",
      "Accuracy: 0.6256157755851746\n",
      "Best hyperparameters - LSTM units: 100, Dropout rate: 0.2, Batch size: 64\n",
      "Best accuracy: 0.6995074152946472\n"
     ]
    }
   ],
   "source": [
    "for lstm_units in lstm_units_list:\n",
    "    for dropout_rate in dropout_rate_list:\n",
    "        for batch_size in batch_size_list:\n",
    "            print(f\"Training model with LSTM units: {lstm_units}, Dropout rate: {dropout_rate}, Batch size: {batch_size}\")\n",
    "            model = build_model(lstm_units, dropout_rate)\n",
    "            history = model.fit(X_train, y_train, epochs=epochs, batch_size=batch_size, validation_data=(X_test, y_test), verbose=2)\n",
    "            score = model.evaluate(X_test, y_test, verbose=0)\n",
    "            accuracy = score[1]\n",
    "            print(f\"Accuracy: {accuracy}\")\n",
    "\n",
    "            # Save the best model\n",
    "            if accuracy > best_accuracy:\n",
    "                best_accuracy = accuracy\n",
    "                best_params = (lstm_units, dropout_rate, batch_size)\n",
    "                history_dict = history.history\n",
    "\n",
    "print(f\"Best hyperparameters - LSTM units: {best_params[0]}, Dropout rate: {best_params[1]}, Batch size: {best_params[2]}\")\n",
    "print(f\"Best accuracy: {best_accuracy}\")"
   ]
  },
  {
   "cell_type": "code",
   "execution_count": 10,
   "metadata": {},
   "outputs": [
    {
     "data": {
      "image/png": "[encoded data removed]",
      "text/plain": [
       "<Figure size 1200x600 with 1 Axes>"
      ]
     },
     "metadata": {},
     "output_type": "display_data"
    }
   ],
   "source": [
    "# Plot training & validation accuracy values\n",
    "plt.figure(figsize=(12, 6))\n",
    "plt.plot(history_dict['accuracy'])\n",
    "plt.plot(history_dict['val_accuracy'])\n",
    "plt.title('Model accuracy')\n",
    "plt.ylabel('Accuracy')\n",
    "plt.xlabel('Epoch')\n",
    "plt.legend(['Train', 'Test'], loc='upper left')\n",
    "plt.show()\n"
   ]
  },
  {
   "cell_type": "code",
   "execution_count": 11,
   "metadata": {},
   "outputs": [
    {
     "data": {
      "image/png": "[encoded data removed]",
      "text/plain": [
       "<Figure size 1200x600 with 1 Axes>"
      ]
     },
     "metadata": {},
     "output_type": "display_data"
    }
   ],
   "source": [
    "# Plot training & validation loss values\n",
    "plt.figure(figsize=(12, 6))\n",
    "plt.plot(history_dict['loss'])\n",
    "plt.plot(history_dict['val_loss'])\n",
    "plt.title('Model loss')\n",
    "plt.ylabel('Loss')\n",
    "plt.xlabel('Epoch')\n",
    "plt.legend(['Train', 'Test'], loc='upper left')\n",
    "plt.show()"
   ]
  },
  {
   "cell_type": "code",
   "execution_count": 12,
   "metadata": {},
   "outputs": [
    {
     "name": "stdout",
     "output_type": "stream",
     "text": [
      "Epoch 1/10\n",
      "13/13 - 20s - 2s/step - accuracy: 0.5524 - loss: 0.6919 - val_accuracy: 0.5517 - val_loss: 0.6892\n",
      "Epoch 2/10\n",
      "13/13 - 9s - 661ms/step - accuracy: 0.7041 - loss: 0.6649 - val_accuracy: 0.5862 - val_loss: 0.6692\n",
      "Epoch 3/10\n",
      "13/13 - 9s - 661ms/step - accuracy: 0.7090 - loss: 0.5787 - val_accuracy: 0.6749 - val_loss: 0.6105\n",
      "Epoch 4/10\n",
      "13/13 - 12s - 885ms/step - accuracy: 0.8286 - loss: 0.4131 - val_accuracy: 0.6404 - val_loss: 0.6767\n",
      "Epoch 5/10\n",
      "13/13 - 13s - 976ms/step - accuracy: 0.8767 - loss: 0.3456 - val_accuracy: 0.6453 - val_loss: 0.6675\n",
      "Epoch 6/10\n",
      "13/13 - 9s - 666ms/step - accuracy: 0.8964 - loss: 0.3098 - val_accuracy: 0.6700 - val_loss: 0.7782\n",
      "Epoch 7/10\n",
      "13/13 - 8s - 607ms/step - accuracy: 0.8644 - loss: 0.3572 - val_accuracy: 0.6305 - val_loss: 0.6872\n",
      "Epoch 8/10\n",
      "13/13 - 7s - 503ms/step - accuracy: 0.9260 - loss: 0.2468 - val_accuracy: 0.7143 - val_loss: 0.7716\n",
      "Epoch 9/10\n",
      "13/13 - 8s - 581ms/step - accuracy: 0.9248 - loss: 0.2165 - val_accuracy: 0.6749 - val_loss: 0.7840\n",
      "Epoch 10/10\n",
      "13/13 - 8s - 622ms/step - accuracy: 0.9445 - loss: 0.1684 - val_accuracy: 0.7143 - val_loss: 0.8148\n",
      "Loss: 0.8147530555725098\n",
      "Accuracy: 0.7142857313156128\n"
     ]
    }
   ],
   "source": [
    "# Evaluasi model terbaik\n",
    "model = build_model(*best_params[:2])\n",
    "model.fit(X_train, y_train, epochs=epochs, batch_size=best_params[2], validation_data=(X_test, y_test), verbose=2)\n",
    "score = model.evaluate(X_test, y_test, verbose=0)\n",
    "print(f'Loss: {score[0]}')\n",
    "print(f'Accuracy: {score[1]}')\n"
   ]
  },
  {
   "cell_type": "code",
   "execution_count": 13,
   "metadata": {},
   "outputs": [
    {
     "name": "stdout",
     "output_type": "stream",
     "text": [
      "\u001b[1m7/7\u001b[0m \u001b[32m━━━━━━━━━━━━━━━━━━━━\u001b[0m\u001b[37m\u001b[0m \u001b[1m2s\u001b[0m 128ms/step\n",
      "[[67 29]\n",
      " [29 78]]\n",
      "              precision    recall  f1-score   support\n",
      "\n",
      "           0       0.70      0.70      0.70        96\n",
      "           1       0.73      0.73      0.73       107\n",
      "\n",
      "    accuracy                           0.71       203\n",
      "   macro avg       0.71      0.71      0.71       203\n",
      "weighted avg       0.71      0.71      0.71       203\n",
      "\n"
     ]
    }
   ],
   "source": [
    "# Prediksi\n",
    "y_pred_prob = model.predict(X_test)\n",
    "y_pred = (y_pred_prob > 0.5).astype(\"int32\")\n",
    "\n",
    "# Evaluasi hasil prediksi\n",
    "cm = confusion_matrix(y_test, y_pred)\n",
    "print(confusion_matrix(y_test, y_pred))\n",
    "print(classification_report(y_test, y_pred))\n"
   ]
  },
  {
   "cell_type": "code",
   "execution_count": 14,
   "metadata": {},
   "outputs": [
    {
     "data": {
      "image/png": "[encoded data removed]",
      "text/plain": [
       "<Figure size 800x600 with 2 Axes>"
      ]
     },
     "metadata": {},
     "output_type": "display_data"
    }
   ],
   "source": [
    "# Visualisasi confusion matrix\n",
    "plt.figure(figsize=(8, 6))\n",
    "sns.heatmap(cm, annot=True, fmt='d', cmap='YlGnBu', xticklabels=['Negative', 'Positive'], yticklabels=['Negative', 'Positive'])\n",
    "plt.xlabel('Predicted')\n",
    "plt.ylabel('Actual')\n",
    "plt.title('Confusion Matrix')\n",
    "plt.show()"
   ]
  },
  {
   "cell_type": "code",
   "execution_count": 15,
   "metadata": {},
   "outputs": [
    {
     "data": {
      "text/html": [
       "<pre style=\"white-space:pre;overflow-x:auto;line-height:normal;font-family:Menlo,'DejaVu Sans Mono',consolas,'Courier New',monospace\"><span style=\"font-weight: bold\">Model: \"sequential_18\"</span>\n",
       "</pre>\n"
      ],
      "text/plain": [
       "\u001b[1mModel: \"sequential_18\"\u001b[0m\n"
      ]
     },
     "metadata": {},
     "output_type": "display_data"
    },
    {
     "data": {
      "text/html": [
       "<pre style=\"white-space:pre;overflow-x:auto;line-height:normal;font-family:Menlo,'DejaVu Sans Mono',consolas,'Courier New',monospace\">┏━━━━━━━━━━━━━━━━━━━━━━━━━━━━━━━━━┳━━━━━━━━━━━━━━━━━━━━━━━━┳━━━━━━━━━━━━━━━┓\n",
       "┃<span style=\"font-weight: bold\"> Layer (type)                    </span>┃<span style=\"font-weight: bold\"> Output Shape           </span>┃<span style=\"font-weight: bold\">       Param # </span>┃\n",
       "┡━━━━━━━━━━━━━━━━━━━━━━━━━━━━━━━━━╇━━━━━━━━━━━━━━━━━━━━━━━━╇━━━━━━━━━━━━━━━┩\n",
       "│ embedding_18 (<span style=\"color: #0087ff; text-decoration-color: #0087ff\">Embedding</span>)        │ (<span style=\"color: #00d7ff; text-decoration-color: #00d7ff\">None</span>, <span style=\"color: #00af00; text-decoration-color: #00af00\">300</span>, <span style=\"color: #00af00; text-decoration-color: #00af00\">128</span>)       │       <span style=\"color: #00af00; text-decoration-color: #00af00\">256,000</span> │\n",
       "├─────────────────────────────────┼────────────────────────┼───────────────┤\n",
       "│ spatial_dropout1d_18            │ (<span style=\"color: #00d7ff; text-decoration-color: #00d7ff\">None</span>, <span style=\"color: #00af00; text-decoration-color: #00af00\">300</span>, <span style=\"color: #00af00; text-decoration-color: #00af00\">128</span>)       │             <span style=\"color: #00af00; text-decoration-color: #00af00\">0</span> │\n",
       "│ (<span style=\"color: #0087ff; text-decoration-color: #0087ff\">SpatialDropout1D</span>)              │                        │               │\n",
       "├─────────────────────────────────┼────────────────────────┼───────────────┤\n",
       "│ lstm_18 (<span style=\"color: #0087ff; text-decoration-color: #0087ff\">LSTM</span>)                  │ (<span style=\"color: #00d7ff; text-decoration-color: #00d7ff\">None</span>, <span style=\"color: #00af00; text-decoration-color: #00af00\">100</span>)            │        <span style=\"color: #00af00; text-decoration-color: #00af00\">91,600</span> │\n",
       "├─────────────────────────────────┼────────────────────────┼───────────────┤\n",
       "│ dense_18 (<span style=\"color: #0087ff; text-decoration-color: #0087ff\">Dense</span>)                │ (<span style=\"color: #00d7ff; text-decoration-color: #00d7ff\">None</span>, <span style=\"color: #00af00; text-decoration-color: #00af00\">1</span>)              │           <span style=\"color: #00af00; text-decoration-color: #00af00\">101</span> │\n",
       "└─────────────────────────────────┴────────────────────────┴───────────────┘\n",
       "</pre>\n"
      ],
      "text/plain": [
       "┏━━━━━━━━━━━━━━━━━━━━━━━━━━━━━━━━━┳━━━━━━━━━━━━━━━━━━━━━━━━┳━━━━━━━━━━━━━━━┓\n",
       "┃\u001b[1m \u001b[0m\u001b[1mLayer (type)                   \u001b[0m\u001b[1m \u001b[0m┃\u001b[1m \u001b[0m\u001b[1mOutput Shape          \u001b[0m\u001b[1m \u001b[0m┃\u001b[1m \u001b[0m\u001b[1m      Param #\u001b[0m\u001b[1m \u001b[0m┃\n",
       "┡━━━━━━━━━━━━━━━━━━━━━━━━━━━━━━━━━╇━━━━━━━━━━━━━━━━━━━━━━━━╇━━━━━━━━━━━━━━━┩\n",
       "│ embedding_18 (\u001b[38;5;33mEmbedding\u001b[0m)        │ (\u001b[38;5;45mNone\u001b[0m, \u001b[38;5;34m300\u001b[0m, \u001b[38;5;34m128\u001b[0m)       │       \u001b[38;5;34m256,000\u001b[0m │\n",
       "├─────────────────────────────────┼────────────────────────┼───────────────┤\n",
       "│ spatial_dropout1d_18            │ (\u001b[38;5;45mNone\u001b[0m, \u001b[38;5;34m300\u001b[0m, \u001b[38;5;34m128\u001b[0m)       │             \u001b[38;5;34m0\u001b[0m │\n",
       "│ (\u001b[38;5;33mSpatialDropout1D\u001b[0m)              │                        │               │\n",
       "├─────────────────────────────────┼────────────────────────┼───────────────┤\n",
       "│ lstm_18 (\u001b[38;5;33mLSTM\u001b[0m)                  │ (\u001b[38;5;45mNone\u001b[0m, \u001b[38;5;34m100\u001b[0m)            │        \u001b[38;5;34m91,600\u001b[0m │\n",
       "├─────────────────────────────────┼────────────────────────┼───────────────┤\n",
       "│ dense_18 (\u001b[38;5;33mDense\u001b[0m)                │ (\u001b[38;5;45mNone\u001b[0m, \u001b[38;5;34m1\u001b[0m)              │           \u001b[38;5;34m101\u001b[0m │\n",
       "└─────────────────────────────────┴────────────────────────┴───────────────┘\n"
      ]
     },
     "metadata": {},
     "output_type": "display_data"
    },
    {
     "data": {
      "text/html": [
       "<pre style=\"white-space:pre;overflow-x:auto;line-height:normal;font-family:Menlo,'DejaVu Sans Mono',consolas,'Courier New',monospace\"><span style=\"font-weight: bold\"> Total params: </span><span style=\"color: #00af00; text-decoration-color: #00af00\">1,043,105</span> (3.98 MB)\n",
       "</pre>\n"
      ],
      "text/plain": [
       "\u001b[1m Total params: \u001b[0m\u001b[38;5;34m1,043,105\u001b[0m (3.98 MB)\n"
      ]
     },
     "metadata": {},
     "output_type": "display_data"
    },
    {
     "data": {
      "text/html": [
       "<pre style=\"white-space:pre;overflow-x:auto;line-height:normal;font-family:Menlo,'DejaVu Sans Mono',consolas,'Courier New',monospace\"><span style=\"font-weight: bold\"> Trainable params: </span><span style=\"color: #00af00; text-decoration-color: #00af00\">347,701</span> (1.33 MB)\n",
       "</pre>\n"
      ],
      "text/plain": [
       "\u001b[1m Trainable params: \u001b[0m\u001b[38;5;34m347,701\u001b[0m (1.33 MB)\n"
      ]
     },
     "metadata": {},
     "output_type": "display_data"
    },
    {
     "data": {
      "text/html": [
       "<pre style=\"white-space:pre;overflow-x:auto;line-height:normal;font-family:Menlo,'DejaVu Sans Mono',consolas,'Courier New',monospace\"><span style=\"font-weight: bold\"> Non-trainable params: </span><span style=\"color: #00af00; text-decoration-color: #00af00\">0</span> (0.00 B)\n",
       "</pre>\n"
      ],
      "text/plain": [
       "\u001b[1m Non-trainable params: \u001b[0m\u001b[38;5;34m0\u001b[0m (0.00 B)\n"
      ]
     },
     "metadata": {},
     "output_type": "display_data"
    },
    {
     "data": {
      "text/html": [
       "<pre style=\"white-space:pre;overflow-x:auto;line-height:normal;font-family:Menlo,'DejaVu Sans Mono',consolas,'Courier New',monospace\"><span style=\"font-weight: bold\"> Optimizer params: </span><span style=\"color: #00af00; text-decoration-color: #00af00\">695,404</span> (2.65 MB)\n",
       "</pre>\n"
      ],
      "text/plain": [
       "\u001b[1m Optimizer params: \u001b[0m\u001b[38;5;34m695,404\u001b[0m (2.65 MB)\n"
      ]
     },
     "metadata": {},
     "output_type": "display_data"
    }
   ],
   "source": [
    "# Summarize the model\n",
    "model.summary()"
   ]
  },
  {
   "cell_type": "code",
   "execution_count": 3,
   "metadata": {},
   "outputs": [
    {
     "name": "stderr",
     "output_type": "stream",
     "text": [
      "[nltk_data] Downloading package punkt to C:\\Users\\Anjelita\n",
      "[nltk_data]     Malik\\AppData\\Roaming\\nltk_data...\n",
      "[nltk_data]   Package punkt is already up-to-date!\n"
     ]
    }
   ],
   "source": [
    "import nltk\n",
    "nltk.download('punkt')\n",
    "from nltk.tokenize import word_tokenize\n",
    "from nltk.probability import FreqDist\n",
    "from wordcloud import WordCloud\n",
    "import re"
   ]
  },
  {
   "cell_type": "code",
   "execution_count": null,
   "metadata": {},
   "outputs": [],
   "source": [
    "sentiment_pos = ' '.join([review for review in df['Pre'][df['polarity'] == 1]])\n",
    "\n",
    "# create object wordcloud\n",
    "w_pos = WordCloud(background_color=\"white\",\n",
    "                  width=800, height=300, max_font_size=200,\n",
    "                  max_words=500).generate(sentiment_pos)\n",
    "\n",
    "plt.figure(figsize=(14,8))\n",
    "plt.axis(\"off\")\n",
    "plt.tight_layout()\n",
    "plt.imshow(w_pos, interpolation=\"bilinear\")\n",
    "plt.show()"
   ]
  }
 ],
 "metadata": {
  "kernelspec": {
   "display_name": "Python 3",
   "language": "python",
   "name": "python3"
  },
  "language_info": {
   "codemirror_mode": {
    "name": "ipython",
    "version": 3
   },
   "file_extension": ".py",
   "mimetype": "text/x-python",
   "name": "python",
   "nbconvert_exporter": "python",
   "pygments_lexer": "ipython3",
   "version": "3.11.5"
  }
 },
 "nbformat": 4,
 "nbformat_minor": 2
}
